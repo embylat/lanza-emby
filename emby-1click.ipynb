{
  "nbformat": 4,
  "nbformat_minor": 0,
  "metadata": {
    "colab": {
      "name": "Emby-1click.ipynb",
      "provenance": [],
      "collapsed_sections": []
    },
    "kernelspec": {
      "name": "python3",
      "display_name": "Python 3"
    }
  },
  "cells": [
    {
      "cell_type": "markdown",
      "metadata": {
        "id": "3FjJjMVjlCqn"
      },
      "source": [
        "Instala e inicia Emby, luego abre un túnel via Cloudflared para ingresar via web"
      ]
    },
    {
      "cell_type": "markdown",
      "metadata": {
        "id": "Egj01uc2k1ew"
      },
      "source": [
        "<center><img src='https://upload.wikimedia.org/wikipedia/commons/c/c5/Emby-logo.png' height=\"100\" alt=\"Emby\"/></center>"
      ]
    },
    {
      "cell_type": "code",
      "metadata": {
        "id": "eMEub4-mk4LX",
        "cellView": "form"
      },
      "source": [
        "#@markdown <h3>⬅️ Presionar botón \"Play\" para cargar e iniciar Emby en 1 click </h3>\r\n",
        "from termcolor import colored, cprint\r\n",
        "print(\" \")\r\n",
        "cprint(\"════════════════════════\", 'green', attrs=['bold'])\r\n",
        "cprint(\"Emby en Google Colab\", 'white', attrs=['bold'])\r\n",
        "cprint(\"════════════════════════\", 'green', attrs=['bold'])\r\n",
        "print(\" \")\r\n",
        "cprint('>> Archivos de configuración','cyan')\r\n",
        "print(\"   Descargando archivos ...\")\r\n",
        "! wget -q -c -nc -O /tmp/1-pls-gdrv.zip https://www.dropbox.com/s/uo5cjdhkyo1vp1n/1-pls-gdrv.zip\r\n",
        "! wget -q -c -nc -O /tmp/1-pls-tgrm.zip https://www.dropbox.com/s/t8q5j5pmvbe8i3o/1-pls-tgrm.zip\r\n",
        "! wget -q -c -nc -O /tmp/1-srs-gdrv.zip https://www.dropbox.com/s/v4tqot8avyj04el/1-srs-gdrv.zip\r\n",
        "! wget -q -c -nc -O /tmp/1-srs-tgrm.zip https://www.dropbox.com/s/xed2n3im1uqozcf/1-srs-tgrm.zip\r\n",
        "! wget -q -c -nc https://www.dropbox.com/s/4nr0s4wpo0vg0xt/3mby-cfg.tar.gz\r\n",
        "! unzip -qq -o /tmp/1-pls-gdrv.zip -d /tmp/pls-grdv/\r\n",
        "! unzip -qq -o /tmp/1-pls-tgrm.zip -d /tmp/pls-tgrm/\r\n",
        "! unzip -qq -o /tmp/1-srs-gdrv.zip -d /tmp/srs-grdv/\r\n",
        "! unzip -qq -o /tmp/1-srs-tgrm.zip -d /tmp/srs-tgrm/\r\n",
        "! chmod 644 /tmp/pls-grdv/*.strm\r\n",
        "! chmod 644 /tmp/pls-tgrm/*.strm\r\n",
        "! chmod -R 766 /tmp/srs-grdv/*\r\n",
        "! chmod 755 /tmp/srs-grdv/*\r\n",
        "! chmod -R 766 /tmp/srs-tgrm/*\r\n",
        "! chmod 755 /tmp/srs-tgrm/*\r\n",
        "print(\"   Descomprimiendo archivos ...\")\r\n",
        "print(\" \")\r\n",
        "! tar -xf /content/3mby-cfg.tar.gz --directory /\r\n",
        "cprint('>> Servidor Emby','cyan')\r\n",
        "print(\"   Descargando ...\")\r\n",
        "! wget https://github.com/MediaBrowser/Emby.Releases/releases/download/4.5.4.0/emby-server-deb_4.5.4.0_amd64.deb\r\n",
        "! dpkg -i emby-server-deb_4.5.4.0_amd64.deb 2> /dev/null\r\n",
        "print(\"   Instalando ...\")\r\n",
        "get_ipython().system_raw('/opt/emby-server/bin/emby-server &')\r\n",
        "cprint('   Servidor Emby iniciado','green')\r\n",
        "print(\" \")\r\n",
        "cprint('>> Túnel Cloudflared','cyan')\r\n",
        "print(\"   Descargando ...\")\r\n",
        "!wget -q -c -nc https://bin.equinox.io/c/VdrWdbjqyF/cloudflared-stable-linux-amd64.tgz\r\n",
        "!tar xfz cloudflared-stable-linux-amd64.tgz\r\n",
        "cprint('   Iniciando ...','green')\r\n",
        "print(colored('   A continuación dar click en el URL que termina en ', 'white'), colored('trycloudflare.com', 'blue'))\r\n",
        "print(\" \")\r\n",
        "!./cloudflared tunnel --url localhost:8096\r\n"
      ],
      "execution_count": null,
      "outputs": []
    },
    {
      "cell_type": "markdown",
      "metadata": {
        "id": "I7yq4wCxoZ4H"
      },
      "source": [
        "Luego de iniciar el servidor Emby se inicia el programa Cloudflared que habilita un túnel. Dar click en el URL que termina en trycloudflare.com"
      ]
    }
  ]
}
