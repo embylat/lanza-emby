{
  "nbformat": 4,
  "nbformat_minor": 0,
  "metadata": {
    "colab": {
      "name": "Emby_OneClick.ipynb",
      "provenance": [],
      "collapsed_sections": [
        "ExZopOtmPSWS",
        "PQ3u0yTwPdvC"
      ],
      "authorship_tag": "ABX9TyOSvUJXOlkxvtfOihs2t8aj",
      "include_colab_link": true
    },
    "kernelspec": {
      "name": "python3",
      "display_name": "Python 3"
    },
    "language_info": {
      "name": "python"
    }
  },
  "cells": [
    {
      "cell_type": "markdown",
      "metadata": {
        "id": "view-in-github",
        "colab_type": "text"
      },
      "source": [
        "<a href=\"https://colab.research.google.com/github/embylat/lanza-emby/blob/main/Emby_OneClick.ipynb\" target=\"_parent\"><img src=\"https://colab.research.google.com/assets/colab-badge.svg\" alt=\"Open In Colab\"/></a>"
      ]
    },
    {
      "cell_type": "markdown",
      "metadata": {
        "id": "Me6WLFMiO4sk"
      },
      "source": [
        "# Emby"
      ]
    },
    {
      "cell_type": "code",
      "metadata": {
        "id": "kqoc__e-O2pf",
        "cellView": "form"
      },
      "source": [
        "#@markdown <h3>⬅️ Presionar botón \"Play\" para cargar e iniciar Emby precargado de contenido en 1 click </h3>\n",
        "from termcolor import colored, cprint\n",
        "print(\" \")\n",
        "cprint(\"════════════════════════\", 'green', attrs=['bold'])\n",
        "cprint(\"Emby en Google Colab\", 'white', attrs=['bold'])\n",
        "cprint(\"por Embylatino\", 'white', attrs=['bold'])\n",
        "cprint(\"════════════════════════\", 'green', attrs=['bold'])\n",
        "print(\" \")\n",
        "cprint('>> Archivos de configuración','cyan')\n",
        "print(\"   Descargando archivos ...\")\n",
        "! wget -q -c -nc -O /tmp/1-pls-gdrv.zip https://www.dropbox.com/s/uo5cjdhkyo1vp1n/1-pls-gdrv.zip\n",
        "! wget -q -c -nc -O /tmp/1-pls-tgrm.zip https://www.dropbox.com/s/t8q5j5pmvbe8i3o/1-pls-tgrm.zip\n",
        "! wget -q -c -nc -O /tmp/1-srs-gdrv.zip https://www.dropbox.com/s/v4tqot8avyj04el/1-srs-gdrv.zip\n",
        "! wget -q -c -nc -O /tmp/1-srs-tgrm.zip https://www.dropbox.com/s/xed2n3im1uqozcf/1-srs-tgrm.zip\n",
        "! wget -q -c -nc -O /tmp/1-pls-yts.zip https://www.dropbox.com/s/owhtwpg29hmj6o5/1-pls-yts.zip\n",
        "! wget -q -c -nc -O /tmp/1-pls-psa.zip https://www.dropbox.com/s/k2m63t5iit0azg0/1-pls-psa.zip\n",
        "! wget -q -c -nc https://www.dropbox.com/s/xv4mp78h4cq20be/3mby-cfg.tar.gz\n",
        "! unzip -qq -o /tmp/1-pls-gdrv.zip -d /tmp/pls-grdv/\n",
        "! unzip -qq -o /tmp/1-pls-tgrm.zip -d /tmp/pls-tgrm/\n",
        "! unzip -qq -o /tmp/1-pls-yts.zip -d /tmp/pls-yts/\n",
        "! unzip -qq -o /tmp/1-pls-psa.zip -d /tmp/pls-psa/\n",
        "! unzip -qq -o /tmp/1-srs-gdrv.zip -d /tmp/srs-grdv/\n",
        "! unzip -qq -o /tmp/1-srs-tgrm.zip -d /tmp/srs-tgrm/\n",
        "! chmod 644 /tmp/pls-grdv/*.strm\n",
        "! chmod 644 /tmp/pls-tgrm/*.strm\n",
        "! chmod 644 /tmp/pls-yts/*.strm\n",
        "! chmod 644 /tmp/pls-psa/*.strm\n",
        "! chmod -R 766 /tmp/srs-grdv/*\n",
        "! chmod 755 /tmp/srs-grdv/*\n",
        "! chmod -R 766 /tmp/srs-tgrm/*\n",
        "! chmod 755 /tmp/srs-tgrm/*\n",
        "print(\"   Descomprimiendo archivos ...\")\n",
        "print(\" \")\n",
        "! tar -xf /content/3mby-cfg.tar.gz --directory /\n",
        "cprint('>> Servidor Emby','cyan')\n",
        "print(\"   Descargando ...\")\n",
        "#! wget https://github.com/MediaBrowser/Emby.Releases/releases/download/4.5.4.0/emby-server-deb_4.5.4.0_amd64.deb\n",
        "#! dpkg -i emby-server-deb_4.5.4.0_amd64.deb 2> /dev/null\n",
        "! wget https://github.com/MediaBrowser/Emby.Releases/releases/download/4.6.0.50/emby-server-deb_4.6.0.50_amd64.deb\n",
        "! dpkg -i emby-server-deb_4.6.0.50_amd64.deb 2> /dev/null\n",
        "print(\"   Instalando ...\")\n",
        "get_ipython().system_raw('/opt/emby-server/bin/emby-server &')\n",
        "cprint('   Servidor Emby iniciado','green')\n",
        "print(\" \")\n",
        "cprint('>> Túnel Cloudflared','cyan')\n",
        "print(\"   Descargando ...\")\n",
        "!wget -q -c -nc https://bin.equinox.io/c/VdrWdbjqyF/cloudflared-stable-linux-amd64.tgz\n",
        "!tar xfz cloudflared-stable-linux-amd64.tgz\n",
        "cprint('   Iniciando ...','green')\n",
        "print(colored('   A continuación dar click en el URL que termina en ', 'white'), colored('trycloudflare.com', 'blue'))\n",
        "print(\" \")\n",
        "!./cloudflared update\n",
        "!./cloudflared tunnel --url localhost:8096"
      ],
      "execution_count": null,
      "outputs": []
    },
    {
      "cell_type": "markdown",
      "metadata": {
        "id": "3cUI5J2_O8sC"
      },
      "source": [
        "Luego de iniciar el servidor Emby se inicia el programa Cloudflared que habilita un túnel. Dar click en el URL que termina en trycloudflare.com"
      ]
    },
    {
      "cell_type": "markdown",
      "metadata": {
        "id": "ExZopOtmPSWS"
      },
      "source": [
        "# aria2c, descarga de archivos en enlace directo o torrent (opcional)"
      ]
    },
    {
      "cell_type": "code",
      "metadata": {
        "cellView": "form",
        "id": "xmQAAQ_hPcCZ"
      },
      "source": [
        "# ============================= FORM ============================= #\n",
        "#@markdown <h3>⬅️ Presionar botón \"Play\" para cargar e iniciar server Torrent (opcional)</h3>\n",
        "#@markdown <p>Luego de descargado el archivo dar \"Stop\".</p>\n",
        "#@markdown <p>Ingresar enlace torrent o magnet </p>\n",
        "enlace = \"\" #@param {type:\"string\"}\n",
        "#@markdown <p>O ingresar listado de enlaces </p>\n",
        "listado = \"\" #@param {type:\"string\"}\n",
        "\n",
        "! apt install aria2\n",
        "! rm -f listado.txt\n",
        "\n",
        "if len(enlace) > 3 :\n",
        "  !aria2c -j 10 \"$enlace\" -d /tmp/pls-grdv/\n",
        "elif len(listado) > 3 :\n",
        "  !wget -q -c -nc -O listado.txt \"$listado\" \n",
        "  !aria2c -j 10 -i listado.txt -d /tmp/pls-grdv/"
      ],
      "execution_count": null,
      "outputs": []
    },
    {
      "cell_type": "markdown",
      "metadata": {
        "id": "PQ3u0yTwPdvC"
      },
      "source": [
        "#  Volver cargar e iniciar server Emby (opcional)"
      ]
    },
    {
      "cell_type": "code",
      "metadata": {
        "id": "vicWn0q_Pokq",
        "cellView": "form"
      },
      "source": [
        "\n",
        "# ============================= FORM ============================= #\n",
        "#@markdown <h3>⬅️ Presionar botón \"Play\" para volver cargar e iniciar server Emby (opcional)</h3>\n",
        "#@markdown <p>A veces el server Emby cae de manera inesperada y hay que volverlo a levantar, no es necesario volver a descargar el programa y los demas archivos. </p>\n",
        "cprint('>> Servidor Emby','cyan')\n",
        "get_ipython().system_raw('/opt/emby-server/bin/emby-server &')\n",
        "cprint('   Servidor Emby iniciado','green')\n",
        "print(\" \")\n",
        "cprint('>> Túnel Cloudflared','cyan')\n",
        "cprint('   Iniciando ...','green')\n",
        "print(colored('   A continuación dar click en el URL que termina en ', 'white'), colored('trycloudflare.com', 'blue'))\n",
        "print(\" \")\n",
        "!./cloudflared tunnel --url localhost:8096"
      ],
      "execution_count": null,
      "outputs": []
    }
  ]
}