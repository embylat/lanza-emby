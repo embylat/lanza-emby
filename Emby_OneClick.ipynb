{
  "nbformat": 4,
  "nbformat_minor": 0,
  "metadata": {
    "colab": {
      "name": "Emby_OneClick.ipynb",
      "provenance": [],
      "collapsed_sections": [
        "ExZopOtmPSWS",
        "PQ3u0yTwPdvC"
      ],
      "mount_file_id": "1Ale4iMhYvtwdml3iHvE1wdVoaKRpNqNI",
      "authorship_tag": "ABX9TyPdnNvJNA5UXLNHprlkX/42",
      "include_colab_link": true
    },
    "kernelspec": {
      "name": "python3",
      "display_name": "Python 3"
    },
    "language_info": {
      "name": "python"
    }
  },
  "cells": [
    {
      "cell_type": "markdown",
      "metadata": {
        "id": "view-in-github",
        "colab_type": "text"
      },
      "source": [
        "<a href=\"https://colab.research.google.com/github/embylat/lanza-emby/blob/main/Emby_OneClick.ipynb\" target=\"_parent\"><img src=\"https://colab.research.google.com/assets/colab-badge.svg\" alt=\"Open In Colab\"/></a>"
      ]
    },
    {
      "cell_type": "markdown",
      "metadata": {
        "id": "Me6WLFMiO4sk"
      },
      "source": [
        "# Emby"
      ]
    },
    {
      "cell_type": "code",
      "metadata": {
        "id": "kqoc__e-O2pf",
        "cellView": "form"
      },
      "source": [
        "#@markdown <h3>⬅️ Presionar botón \"Play\" para cargar e iniciar Emby precargado de contenido en 1 click </h3>\n",
        "#@markdown <br><center><img alt=\"\" src=\"data:image/png;base64,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\" height=\"200\" alt=\"jellyfin\"/></center>\n",
        "! pip install wget\n",
        "\n",
        "import os\n",
        "import urllib.request\n",
        "from termcolor import colored, cprint\n",
        "\n",
        "def startemby ():\n",
        "  cprint('>> Servidor Emby','cyan')\n",
        "  print(\"   Descargando ...\")\n",
        "  #! wget https://github.com/MediaBrowser/Emby.Releases/releases/download/4.6.0.50/emby-server-deb_4.6.0.50_amd64.deb\n",
        "  #! dpkg -i emby-server-deb_4.6.0.50_amd64.deb 2> /dev/null\n",
        "  ! wget https://github.com/MediaBrowser/Emby.Releases/releases/download/4.6.4.0/emby-server-deb_4.6.4.0_amd64.deb\n",
        "  ! dpkg -i emby-server-deb_4.6.4.0_amd64.deb\n",
        "  print(\"   Instalando ...\")\n",
        "  get_ipython().system_raw('/opt/emby-server/bin/emby-server &')\n",
        "  cprint('   Servidor Emby iniciado','green')\n",
        "  print(\" \")\n",
        "\n",
        "def startcflared ():\n",
        "  cprint('>> Túnel Cloudflared','cyan')\n",
        "  print(\"   Descargando ...\")\n",
        "  !wget -q -c -nc https://github.com/cloudflare/cloudflared/releases/download/2021.9.2/cloudflared-linux-amd64\n",
        "  !chmod 755 cloudflared-linux-amd64\n",
        "  cprint('   Iniciando ...','green')\n",
        "  print(colored('   A continuación dar click en el URL que termina en ', 'white'), colored('trycloudflare.com', 'green'))\n",
        "  print(\" \")\n",
        "  cprint('   Visite el grupo / canal en Telegram para conocer la clave de acceso','green')\n",
        "  print(\" \")\n",
        "  !./cloudflared-linux-amd64 update\n",
        "  !./cloudflared-linux-amd64 tunnel --url localhost:8096\n",
        "\n",
        "def descarch ():\n",
        "  ! wget -q -c -nc -O /tmp/1-pls-gdrv.zip https://www.dropbox.com/s/uo5cjdhkyo1vp1n/1-pls-gdrv.zip\n",
        "  ! wget -q -c -nc -O /tmp/1-pls-tgrm.zip https://www.dropbox.com/s/ltm3htvge19j1e1/1-pls-tgrm.zip\n",
        "  ! wget -q -c -nc -O /tmp/1-srs-gdrv.zip https://www.dropbox.com/s/v4tqot8avyj04el/1-srs-gdrv.zip\n",
        "  ! wget -q -c -nc -O /tmp/1-srs-tgrm.zip https://www.dropbox.com/s/kxy2kumxqqeokkg/1-srs-tgrm.zip\n",
        "  ! wget -q -c -nc -O /tmp/1-pls-yts.zip https://www.dropbox.com/s/owhtwpg29hmj6o5/1-pls-yts.zip\n",
        "  ! wget -q -c -nc -O /tmp/1-pls-psa.zip https://www.dropbox.com/s/k2m63t5iit0azg0/1-pls-psa.zip\n",
        "  ! wget -q -c -nc https://www.dropbox.com/s/xv4mp78h4cq20be/3mby-cfg.tar.gz\n",
        "  ! unzip -qq -o /tmp/1-pls-gdrv.zip -d /tmp/pls-grdv/\n",
        "  ! unzip -qq -o /tmp/1-pls-tgrm.zip -d /tmp/pls-tgrm/\n",
        "  ! unzip -qq -o /tmp/1-pls-yts.zip -d /tmp/pls-yts/\n",
        "  ! unzip -qq -o /tmp/1-pls-psa.zip -d /tmp/pls-psa/\n",
        "  ! unzip -qq -o /tmp/1-srs-gdrv.zip -d /tmp/srs-grdv/\n",
        "  ! unzip -qq -o /tmp/1-srs-tgrm.zip -d /tmp/srs-tgrm/\n",
        "\n",
        "def main(version=None):\n",
        "  print(\" \")\n",
        "  cprint(\"════════════════════════\", 'green', attrs=['bold'])\n",
        "  cprint(\"Emby en Google Colab 202111\", 'white', attrs=['bold'])\n",
        "  cprint(\"por Embylatino\", 'white', attrs=['bold'])\n",
        "  cprint(\"════════════════════════\", 'green', attrs=['bold'])\n",
        "  print(\" \")\n",
        "  cprint('>> Archivos de configuración','cyan')\n",
        "  print(\"   Descargando archivos ...\")\n",
        "  descarch ()\n",
        "  print(\"   Descomprimiendo archivos ...\")\n",
        "  print(\" \")\n",
        "  ! tar -xf /content/3mby-cfg.tar.gz --directory /\n",
        "  startemby ()\n",
        "  startcflared ()\n",
        "\n",
        "main()\n"
      ],
      "execution_count": null,
      "outputs": []
    },
    {
      "cell_type": "markdown",
      "metadata": {
        "id": "3cUI5J2_O8sC"
      },
      "source": [
        "Luego de iniciar el servidor Emby se inicia el programa Cloudflared que habilita un túnel. Dar click en el URL que termina en trycloudflare.com"
      ]
    },
    {
      "cell_type": "markdown",
      "metadata": {
        "id": "ExZopOtmPSWS"
      },
      "source": [
        "# aria2c, descarga de archivos en enlace directo o torrent (opcional)"
      ]
    },
    {
      "cell_type": "code",
      "metadata": {
        "cellView": "form",
        "id": "xmQAAQ_hPcCZ"
      },
      "source": [
        "# ============================= FORM ============================= #\n",
        "#@markdown <h3>⬅️ Presionar botón \"Play\" para cargar e iniciar server Torrent (opcional)</h3>\n",
        "#@markdown <p>Luego de descargado el archivo dar \"Stop\".</p>\n",
        "#@markdown <p>Ingresar enlace torrent o magnet </p>\n",
        "enlace = \"\" #@param {type:\"string\"}\n",
        "#@markdown <p>O ingresar listado de enlaces </p>\n",
        "listado = \"\" #@param {type:\"string\"}\n",
        "\n",
        "! apt install aria2\n",
        "! rm -f listado.txt\n",
        "\n",
        "if len(enlace) > 3 :\n",
        "  !aria2c -j 10 \"$enlace\" -d /tmp/pls-grdv/\n",
        "elif len(listado) > 3 :\n",
        "  !wget -q -c -nc -O listado.txt \"$listado\" \n",
        "  !aria2c -j 10 -i listado.txt -d /tmp/pls-grdv/"
      ],
      "execution_count": null,
      "outputs": []
    },
    {
      "cell_type": "markdown",
      "metadata": {
        "id": "PQ3u0yTwPdvC"
      },
      "source": [
        "#  Volver cargar e iniciar server Emby (opcional)"
      ]
    },
    {
      "cell_type": "code",
      "metadata": {
        "id": "vicWn0q_Pokq",
        "cellView": "form"
      },
      "source": [
        "\n",
        "# ============================= FORM ============================= #\n",
        "#@markdown <h3>⬅️ Presionar botón \"Play\" para volver cargar e iniciar server Emby (opcional)</h3>\n",
        "#@markdown <p>A veces el server Emby cae de manera inesperada y hay que volverlo a levantar, no es necesario volver a descargar el programa y los demas archivos. </p>\n",
        "cprint('>> Servidor Emby','cyan')\n",
        "get_ipython().system_raw('/opt/emby-server/bin/emby-server &')\n",
        "cprint('   Servidor Emby iniciado','green')\n",
        "print(\" \")\n",
        "cprint('>> Túnel Cloudflared','cyan')\n",
        "cprint('   Iniciando ...','green')\n",
        "print(colored('   A continuación dar click en el URL que termina en ', 'white'), colored('trycloudflare.com', 'blue'))\n",
        "print(\" \")\n",
        "!./cloudflared-linux-amd64 tunnel --url localhost:8096"
      ],
      "execution_count": null,
      "outputs": []
    }
  ]
}